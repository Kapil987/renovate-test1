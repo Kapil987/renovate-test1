{
 "cells": [
  {
   "cell_type": "code",
   "execution_count": 3,
   "id": "ee96f8b0",
   "metadata": {},
   "outputs": [
    {
     "name": "stdout",
     "output_type": "stream",
     "text": [
      "Requirement already satisfied: PyGithub in c:\\users\\kkapil\\appdata\\local\\anaconda3\\envs\\astrodemo\\lib\\site-packages (2.8.1)\n",
      "Requirement already satisfied: python-dotenv in c:\\users\\kkapil\\appdata\\local\\anaconda3\\envs\\astrodemo\\lib\\site-packages (1.1.1)\n",
      "Requirement already satisfied: pynacl>=1.4.0 in c:\\users\\kkapil\\appdata\\local\\anaconda3\\envs\\astrodemo\\lib\\site-packages (from PyGithub) (1.5.0)\n",
      "Requirement already satisfied: requests>=2.14.0 in c:\\users\\kkapil\\appdata\\local\\anaconda3\\envs\\astrodemo\\lib\\site-packages (from PyGithub) (2.32.4)\n",
      "Requirement already satisfied: pyjwt>=2.4.0 in c:\\users\\kkapil\\appdata\\local\\anaconda3\\envs\\astrodemo\\lib\\site-packages (from pyjwt[crypto]>=2.4.0->PyGithub) (2.10.1)\n",
      "Requirement already satisfied: typing-extensions>=4.5.0 in c:\\users\\kkapil\\appdata\\local\\anaconda3\\envs\\astrodemo\\lib\\site-packages (from PyGithub) (4.14.1)\n",
      "Requirement already satisfied: urllib3>=1.26.0 in c:\\users\\kkapil\\appdata\\local\\anaconda3\\envs\\astrodemo\\lib\\site-packages (from PyGithub) (2.5.0)\n",
      "Requirement already satisfied: cryptography>=3.4.0 in c:\\users\\kkapil\\appdata\\local\\anaconda3\\envs\\astrodemo\\lib\\site-packages (from pyjwt[crypto]>=2.4.0->PyGithub) (45.0.5)\n",
      "Requirement already satisfied: cffi>=1.14 in c:\\users\\kkapil\\appdata\\local\\anaconda3\\envs\\astrodemo\\lib\\site-packages (from cryptography>=3.4.0->pyjwt[crypto]>=2.4.0->PyGithub) (1.17.1)\n",
      "Requirement already satisfied: pycparser in c:\\users\\kkapil\\appdata\\local\\anaconda3\\envs\\astrodemo\\lib\\site-packages (from cffi>=1.14->cryptography>=3.4.0->pyjwt[crypto]>=2.4.0->PyGithub) (2.22)\n",
      "Requirement already satisfied: charset_normalizer<4,>=2 in c:\\users\\kkapil\\appdata\\local\\anaconda3\\envs\\astrodemo\\lib\\site-packages (from requests>=2.14.0->PyGithub) (3.4.2)\n",
      "Requirement already satisfied: idna<4,>=2.5 in c:\\users\\kkapil\\appdata\\local\\anaconda3\\envs\\astrodemo\\lib\\site-packages (from requests>=2.14.0->PyGithub) (3.10)\n",
      "Requirement already satisfied: certifi>=2017.4.17 in c:\\users\\kkapil\\appdata\\local\\anaconda3\\envs\\astrodemo\\lib\\site-packages (from requests>=2.14.0->PyGithub) (2025.7.9)\n"
     ]
    }
   ],
   "source": [
    "!pip install PyGithub python-dotenv"
   ]
  },
  {
   "cell_type": "code",
   "execution_count": 5,
   "id": "05f90e0b",
   "metadata": {},
   "outputs": [],
   "source": [
    "import argparse\n",
    "from dotenv import load_dotenv\n",
    "import os\n",
    "from datetime import datetime\n",
    "\n",
    "import yaml\n",
    "from github import Auth, Github"
   ]
  },
  {
   "cell_type": "code",
   "execution_count": 6,
   "id": "5798c3fa",
   "metadata": {},
   "outputs": [],
   "source": [
    "# Load environment variables from .env file\n",
    "load_dotenv()\n",
    "\n",
    "def get_repo(name):\n",
    "    \"\"\"Get GitHub repository by name\"\"\"\n",
    "\n",
    "    # Get the personal authorization token from an environment variable, e.g., export GITHUB_TOKEN=github_pat_123\n",
    "    github_token = os.environ['GITHUB_TOKEN']\n",
    "\n",
    "    # Create authorization based on the token.\n",
    "    auth = Auth.Token(github_token)\n",
    "\n",
    "    # Authorize with GitHub using the token\n",
    "    g = Github(auth=auth)\n",
    "\n",
    "    # Return the GitHub repository\n",
    "    return g.get_repo(name)"
   ]
  },
  {
   "cell_type": "code",
   "execution_count": 26,
   "id": "e3a38d43",
   "metadata": {},
   "outputs": [
    {
     "name": "stdout",
     "output_type": "stream",
     "text": [
      "Directory -> ['k8s']\n",
      "file content -> ['.gitignore', '.whitesource', 'Dockerfile', 'renovate.json']\n"
     ]
    }
   ],
   "source": [
    "repository = get_repo('Kapil987/renovate-test1')\n",
    "# repository.get_contents(\"\")[0].path\n",
    "# List contents of the repository's root\n",
    "git_dir = []\n",
    "git_files = []\n",
    "for content_file in repository.get_contents(\"\"):\n",
    "    if content_file.type == \"dir\":\n",
    "        git_dir.append(content_file.path)\n",
    "        # print(content_file.path)\n",
    "    else:\n",
    "        git_files.append(content_file.path)\n",
    "print('Directory ->',git_dir)\n",
    "print('file content ->',git_files)"
   ]
  }
 ],
 "metadata": {
  "kernelspec": {
   "display_name": "astrodemo",
   "language": "python",
   "name": "python3"
  },
  "language_info": {
   "codemirror_mode": {
    "name": "ipython",
    "version": 3
   },
   "file_extension": ".py",
   "mimetype": "text/x-python",
   "name": "python",
   "nbconvert_exporter": "python",
   "pygments_lexer": "ipython3",
   "version": "3.10.18"
  }
 },
 "nbformat": 4,
 "nbformat_minor": 5
}
